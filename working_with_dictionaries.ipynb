{
  "nbformat": 4,
  "nbformat_minor": 0,
  "metadata": {
    "colab": {
      "provenance": [],
      "authorship_tag": "ABX9TyMZpjZnQmUsoILWrGhy/d+y",
      "include_colab_link": true
    },
    "kernelspec": {
      "name": "python3",
      "display_name": "Python 3"
    },
    "language_info": {
      "name": "python"
    }
  },
  "cells": [
    {
      "cell_type": "markdown",
      "metadata": {
        "id": "view-in-github",
        "colab_type": "text"
      },
      "source": [
        "<a href=\"https://colab.research.google.com/github/nusratsadia/PCED/blob/main/working_with_dictionaries.ipynb\" target=\"_parent\"><img src=\"https://colab.research.google.com/assets/colab-badge.svg\" alt=\"Open In Colab\"/></a>"
      ]
    },
    {
      "cell_type": "code",
      "execution_count": 7,
      "metadata": {
        "colab": {
          "base_uri": "https://localhost:8080/"
        },
        "id": "oJS05SH2cOEH",
        "outputId": "396314a7-adfc-4f31-f069-1a4aefd3fd5c"
      },
      "outputs": [
        {
          "output_type": "stream",
          "name": "stdout",
          "text": [
            "Student name: Alice\n",
            "{'name': 'Alice', 'age': 25, 'major': 'Computer Science', 'city': 'New York', 'edu': 'M A'}\n",
            "{'name': 'Alice', 'age': 26, 'major': 'Computer Science', 'city': 'New York', 'edu': 'M A'}\n",
            "Major: Computer Science\n",
            "name: Alice\n",
            "age: 26\n",
            "major: Computer Science\n",
            "city: New York\n",
            "edu: M A\n"
          ]
        }
      ],
      "source": [
        "# 2. Working with Dictionaries\n",
        "\n",
        "# Create a dictionary of student information\n",
        "student = {\"name\": \"Alice\", \"age\": 25, \"major\": \"Computer Science\"}\n",
        "\n",
        "# Access values by key\n",
        "print(\"Student name:\", student[\"name\"])\n",
        "\n",
        "# Add a new key-value pair\n",
        "student[\"city\"] = \"New York\"\n",
        "#student[\"edu\"] = \"M.A\"\n",
        "\n",
        "print(student)  # output: {'name': 'Alice', 'age': 25, 'major': 'Computer Science', 'city': 'New York'}\n",
        "\n",
        "# Update a value\n",
        "student[\"age\"] = 26\n",
        "\n",
        "print(student)   # output: {'name': 'Alice', 'age': 26, 'major': 'Computer Science', 'city': 'New York'}\n",
        "\n",
        "# Check if a key exists\n",
        "if \"major\" in student:\n",
        "    print(\"Major:\", student[\"major\"])  # output: major: Computer Science\n",
        "\n",
        "# Iterate through key-value pairs\n",
        "for key, value in student.items():\n",
        "    print(f\"{key}: {value}\")  # ouput prints new keys and value pairs\n"
      ]
    }
  ]
}