{
  "nbformat": 4,
  "nbformat_minor": 0,
  "metadata": {
    "colab": {
      "provenance": [],
      "authorship_tag": "ABX9TyNroI6VYmt6YhP/Gckg1XOs",
      "include_colab_link": true
    },
    "kernelspec": {
      "name": "python3",
      "display_name": "Python 3"
    },
    "language_info": {
      "name": "python"
    }
  },
  "cells": [
    {
      "cell_type": "markdown",
      "metadata": {
        "id": "view-in-github",
        "colab_type": "text"
      },
      "source": [
        "<a href=\"https://colab.research.google.com/github/nusratsadia/PCED/blob/main/read_file%26exception_handling_.ipynb\" target=\"_parent\"><img src=\"https://colab.research.google.com/assets/colab-badge.svg\" alt=\"Open In Colab\"/></a>"
      ]
    },
    {
      "cell_type": "markdown",
      "source": [
        "# read a file"
      ],
      "metadata": {
        "id": "hwK8y5xOtFPq"
      }
    },
    {
      "cell_type": "code",
      "source": [
        "# upload file to session storage\n",
        "# copy path\n",
        "\n",
        "file = open(\"/content/Citation_Request.txt\", \"r\")\n",
        "print(file)"
      ],
      "metadata": {
        "id": "MNn0UJTo9Qfg"
      },
      "execution_count": null,
      "outputs": []
    },
    {
      "cell_type": "code",
      "source": [
        "file = open(\"/content/sample_data/Citation_Request.txt\", \"r\")"
      ],
      "metadata": {
        "id": "MthvLwSe80XC"
      },
      "execution_count": null,
      "outputs": []
    },
    {
      "cell_type": "code",
      "source": [
        "# error\n",
        "file = open(\"/content/sample_data/citation_Request.txt\", \"r\")"
      ],
      "metadata": {
        "id": "DmI5d5jb5Fnc"
      },
      "execution_count": null,
      "outputs": []
    },
    {
      "cell_type": "code",
      "source": [
        "# upload file to session storage\n",
        "# copy path\n",
        "\n",
        "try:\n",
        "    file = open(\"/content/sample_data/citation_Request.txt\", \"r\")\n",
        "    # Process the file\n",
        "except FileNotFoundError:\n",
        "    print(\"File not found.\")\n",
        "#finaly\n"
      ],
      "metadata": {
        "id": "6t2SYRLdtPZy"
      },
      "execution_count": null,
      "outputs": []
    },
    {
      "cell_type": "code",
      "source": [
        "def read_data_from_file(filename):\n",
        "  '''\n",
        "  Reads data from a file.\n",
        "\n",
        "  Args:\n",
        "    filename: The name of the file to read.\n",
        "\n",
        "  Returns:\n",
        "    The contents of the file as a string, or None if the file is not found.\n",
        "  '''\n",
        "\n",
        " # path: /content/iris.csv\n",
        " #path: /content/sample_data/iris.csv\n",
        "\n",
        "\n",
        "  try:\n",
        "    with open(filename, 'r') as file:\n",
        "      data = file.read()\n",
        "      return data\n",
        "  except FileNotFoundError:\n",
        "    print(f\"Error: File '{filename}' not found.\")\n",
        "    return None\n",
        "  finally:\n",
        "    print(\"File processing complete.\")\n",
        "\n",
        "# Example usage\n",
        "file_name = \"my_data.txt\"  # Replace with the actual file name\n",
        "data = read_data_from_file(file_name)\n",
        "\n",
        "if data:\n",
        "  print(data)"
      ],
      "metadata": {
        "id": "EDWxv7KWtPia"
      },
      "execution_count": null,
      "outputs": []
    },
    {
      "cell_type": "code",
      "source": [
        "#exception handling with finally block\n",
        "#\n",
        "\n",
        "def read_data_from_file(filename):\n",
        "  \"\"\"\n",
        "  Reads data from a file.\n",
        "\n",
        "  Args:\n",
        "    filename: The name of the file to read.\n",
        "\n",
        "  Returns:\n",
        "    The contents of the file as a string, or None if the file is not found.\n",
        "  \"\"\"\n",
        "  try:  #This block contains the code that might raise an exception\n",
        "    with open(\"/content/sample_data/iris.csv\", 'r') as file:  # concise way to open a file and ensure it's properly closed even if an exception occurs.\n",
        "      data = file.read()  # reads the contents of the file and stores them in the data variable.\n",
        "\n",
        "      return data\n",
        "  except FileNotFoundError: # This block is executed if a FileNotFoundError occurs within the try block\n",
        "    print(f\"Error: File '{filename}' not found.\")\n",
        "    return None\n",
        "  finally:    # finally block is executed regardless of whether an exception occurred or not\n",
        "    print(\"File processing complete.\")\n",
        "# FileNotFoundError block prints an informative error message and returns None to indicate that the file was not found"
      ],
      "metadata": {
        "id": "xfqP8o4RUVY1"
      },
      "execution_count": null,
      "outputs": []
    },
    {
      "cell_type": "code",
      "source": [],
      "metadata": {
        "id": "ACI7wfHaVIg4"
      },
      "execution_count": null,
      "outputs": []
    }
  ]
}