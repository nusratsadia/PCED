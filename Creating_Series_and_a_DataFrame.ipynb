{
  "nbformat": 4,
  "nbformat_minor": 0,
  "metadata": {
    "colab": {
      "provenance": [],
      "authorship_tag": "ABX9TyPOv1XiFgov5mVr0cdzcBcH",
      "include_colab_link": true
    },
    "kernelspec": {
      "name": "python3",
      "display_name": "Python 3"
    },
    "language_info": {
      "name": "python"
    }
  },
  "cells": [
    {
      "cell_type": "markdown",
      "metadata": {
        "id": "view-in-github",
        "colab_type": "text"
      },
      "source": [
        "<a href=\"https://colab.research.google.com/github/nusratsadia/PCED/blob/main/Creating_Series_and_a_DataFrame.ipynb\" target=\"_parent\"><img src=\"https://colab.research.google.com/assets/colab-badge.svg\" alt=\"Open In Colab\"/></a>"
      ]
    },
    {
      "cell_type": "code",
      "execution_count": null,
      "metadata": {
        "colab": {
          "base_uri": "https://localhost:8080/"
        },
        "id": "LuThBG3LAaok",
        "outputId": "58e3de7f-d21a-4df1-f8d4-ffa08d20c09a"
      },
      "outputs": [
        {
          "output_type": "stream",
          "name": "stdout",
          "text": [
            "a    10\n",
            "b    20\n",
            "c    30\n",
            "dtype: int64\n"
          ]
        }
      ],
      "source": [
        "# how to create a Series and a DataFrame using Pandas\n",
        "import pandas as pd\n",
        "\n",
        "# Create a Series\n",
        "data = {'a': 10, 'b': 20, 'c': 30}\n",
        "series = pd.Series(data)\n",
        "print(series)\n",
        "\n"
      ]
    },
    {
      "cell_type": "code",
      "source": [
        "# Create a DataFrame\n",
        "data = {'Name': ['Alice', 'Bob', 'Charlie'],\n",
        "        'Age': [25, 30, 22],\n",
        "        'City': ['New York', 'London', 'Paris']}\n",
        "df = pd.DataFrame(data)\n",
        "print(df)"
      ],
      "metadata": {
        "colab": {
          "base_uri": "https://localhost:8080/"
        },
        "id": "M2Vn8OdnA0OB",
        "outputId": "788ebf83-6928-4436-a7bc-bedc6e7ea9f7"
      },
      "execution_count": null,
      "outputs": [
        {
          "output_type": "stream",
          "name": "stdout",
          "text": [
            "      Name  Age      City\n",
            "0    Alice   25  New York\n",
            "1      Bob   30    London\n",
            "2  Charlie   22     Paris\n"
          ]
        }
      ]
    },
    {
      "cell_type": "markdown",
      "source": [
        "# Key Points:\n",
        "\n",
        "Series: A single column of data.\n",
        "DataFrame: A collection of Series, representing a table with rows and columns.\n",
        "These data structures provide efficient and flexible ways to work with tabular data in Python."
      ],
      "metadata": {
        "id": "ASuw99sVyPJf"
      }
    },
    {
      "cell_type": "code",
      "source": [
        "# drop missing values using dropna()\n",
        "import pandas as pd\n",
        "\n",
        "# Sample DataFrame with missing values\n",
        "data = {'Name': ['Alice', 'Bob', 'Charlie', 'David'],\n",
        "        'Age': [25, 30, None, 22],\n",
        "        'City': ['New York', None, 'Paris', 'London']}\n",
        "df = pd.DataFrame(data)\n",
        "\n",
        "# 1. Drop rows with any missing values\n",
        "df_dropped_any = df.dropna()\n",
        "print(\"Dropped rows with any missing values:\\n\", df_dropped_any)\n",
        "\n",
        "# 2. Drop rows with all missing values\n",
        "df_dropped_all = df.dropna(how='all')\n",
        "print(\"\\nDropped rows with all missing values:\\n\", df_dropped_all)\n",
        "\n",
        "# 3. Drop rows where 'Age' is missing\n",
        "df_dropped_age = df.dropna(subset=['Age'])\n",
        "print(\"\\nDropped rows where 'Age' is missing:\\n\", df_dropped_age)\n",
        "\n",
        "# 4. Drop rows where 'City' is missing\n",
        "df_dropped_city = df.dropna(subset=['City'])\n",
        "print(\"\\nDropped rows where 'City' is missing:\\n\", df_dropped_city)"
      ],
      "metadata": {
        "id": "HxyD93ZtCTpN",
        "colab": {
          "base_uri": "https://localhost:8080/"
        },
        "outputId": "7519c1ca-2518-4e48-b6cf-26c03450677e"
      },
      "execution_count": null,
      "outputs": [
        {
          "output_type": "stream",
          "name": "stdout",
          "text": [
            "Dropped rows with any missing values:\n",
            "     Name   Age      City\n",
            "0  Alice  25.0  New York\n",
            "3  David  22.0    London\n",
            "\n",
            "Dropped rows with all missing values:\n",
            "       Name   Age      City\n",
            "0    Alice  25.0  New York\n",
            "1      Bob  30.0      None\n",
            "2  Charlie   NaN     Paris\n",
            "3    David  22.0    London\n",
            "\n",
            "Dropped rows where 'Age' is missing:\n",
            "     Name   Age      City\n",
            "0  Alice  25.0  New York\n",
            "1    Bob  30.0      None\n",
            "3  David  22.0    London\n",
            "\n",
            "Dropped rows where 'City' is missing:\n",
            "       Name   Age      City\n",
            "0    Alice  25.0  New York\n",
            "2  Charlie   NaN     Paris\n",
            "3    David  22.0    London\n"
          ]
        }
      ]
    },
    {
      "cell_type": "markdown",
      "source": [
        "# Explanation:\n",
        "\n",
        "dropna(): This is the core Pandas function for dropping missing values (represented by NaN).\n",
        "how='any' (default): Drops rows that contain at least one missing value.\n",
        "how='all': Drops rows only if all values in that row are missing.\n",
        "subset: Specifies the columns to check for missing values.\n",
        "This demonstrates how to use the dropna() function with different parameters to effectively handle missing values in your DataFrame."
      ],
      "metadata": {
        "id": "ntl70DkVywsl"
      }
    },
    {
      "cell_type": "markdown",
      "source": [
        "#### Important Notes:\n",
        "\n",
        "Dropping rows with missing values can lead to data loss, especially if a significant portion of your data contains missing values.\n",
        "Consider other strategies for handling missing data, such as:\n",
        "#### Imputation: Filling missing values with estimated values (e.g., mean, median, mode, or more sophisticated methods).\n",
        "#### Data transformation: Creating new features or transforming existing features to handle missing values.\n",
        "The best approach for handling missing values will depend on the specific characteristics of your data and the goals of your analysis."
      ],
      "metadata": {
        "id": "z63JXyJnC_i1"
      }
    },
    {
      "cell_type": "code",
      "source": [
        "# Remove duplicates using pandas\n",
        "import pandas as pd\n",
        "\n",
        "# Sample DataFrame with duplicate rows\n",
        "data = {'Name': ['Alice', 'Bob', 'Charlie', 'Alice', 'Bob'],\n",
        "        'Age': [25, 30, 22, 25, 30]}\n",
        "df = pd.DataFrame(data)\n",
        "\n",
        "# Remove duplicate rows based on all columns\n",
        "df_no_duplicates = df.drop_duplicates()\n",
        "print(\"DataFrame with duplicates removed:\\n\", df_no_duplicates)\n",
        "\n",
        "# Remove duplicate rows based on specific columns\n",
        "df_no_duplicates_by_name = df.drop_duplicates(subset=['Name'])\n",
        "print(\"\\nDataFrame with duplicates removed based on 'Name':\\n\", df_no_duplicates_by_name)"
      ],
      "metadata": {
        "id": "ofE9wlo2C1mB",
        "colab": {
          "base_uri": "https://localhost:8080/"
        },
        "outputId": "cffa03c5-e1df-4db3-99af-8648e185f141"
      },
      "execution_count": null,
      "outputs": [
        {
          "output_type": "stream",
          "name": "stdout",
          "text": [
            "DataFrame with duplicates removed:\n",
            "       Name  Age\n",
            "0    Alice   25\n",
            "1      Bob   30\n",
            "2  Charlie   22\n",
            "\n",
            "DataFrame with duplicates removed based on 'Name':\n",
            "       Name  Age\n",
            "0    Alice   25\n",
            "1      Bob   30\n",
            "2  Charlie   22\n"
          ]
        }
      ]
    },
    {
      "cell_type": "code",
      "source": [
        "# Calculating mean, median, standard deviation using numpy\n",
        "\n",
        "'''This code demonstrates how to efficiently calculate these statistical measures using the NumPy library in Python.'''\n",
        "\n",
        "import numpy as np\n",
        "\n",
        "data = [10, 15, 20, 25, 30, 35, 40]\n",
        "\n",
        "# Calculate mean\n",
        "mean = np.mean(data)\n",
        "print(f\"Mean: {mean}\")\n",
        "\n",
        "# Calculate median\n",
        "median = np.median(data)\n",
        "print(f\"Median: {median}\")\n",
        "\n",
        "# Calculate standard deviation\n",
        "std_dev = np.std(data)\n",
        "print(f\"Standard Deviation: {std_dev}\")"
      ],
      "metadata": {
        "id": "pZbeg685EZxn",
        "colab": {
          "base_uri": "https://localhost:8080/"
        },
        "outputId": "73ffca4c-8a1b-4803-8068-6042254bf717"
      },
      "execution_count": null,
      "outputs": [
        {
          "output_type": "stream",
          "name": "stdout",
          "text": [
            "Mean: 25.0\n",
            "Median: 25.0\n",
            "Standard Deviation: 10.0\n"
          ]
        }
      ]
    },
    {
      "cell_type": "code",
      "source": [
        "# mean, median, standard deviation using datafram\n",
        "\n",
        "import pandas as pd\n",
        "\n",
        "# Sample DataFrame\n",
        "data = {'Values': [10, 15, 20, 25, 30, 35, 40]}\n",
        "df = pd.DataFrame(data)\n",
        "\n",
        "# Calculate mean\n",
        "mean_value = df['Values'].mean()\n",
        "print(f\"Mean: {mean_value}\")\n",
        "\n",
        "# Calculate median\n",
        "median_value = df['Values'].median()\n",
        "print(f\"Median: {median_value}\")\n",
        "\n",
        "# Calculate standard deviation\n",
        "std_dev = df['Values'].std()\n",
        "print(f\"Standard Deviation: {std_dev}\")"
      ],
      "metadata": {
        "colab": {
          "base_uri": "https://localhost:8080/"
        },
        "id": "9AO-fM5rG_Qm",
        "outputId": "aafc383b-a9c8-4f20-d605-518282a71b4c"
      },
      "execution_count": null,
      "outputs": [
        {
          "output_type": "stream",
          "name": "stdout",
          "text": [
            "Mean: 25.0\n",
            "Median: 25.0\n",
            "Standard Deviation: 10.801234497346433\n"
          ]
        }
      ]
    },
    {
      "cell_type": "code",
      "source": [
        "import pandas as pd\n",
        "\n",
        "# Sample DataFrame with duplicate rows\n",
        "data = {'Name': ['Alice', 'Bob', 'Charlie'],\n",
        "        'Age': [25, 30, 22]}\n",
        "df = pd.DataFrame(data)"
      ],
      "metadata": {
        "id": "zdy1P3byLB35"
      },
      "execution_count": null,
      "outputs": []
    },
    {
      "cell_type": "code",
      "source": [
        "# Example 1: Creating a Salary Column in existing DataFrame with missing values\n",
        "df['Salary'] = [50000, 60000, None]\n",
        "\n",
        "print(\"df with missing values:\\n\", df)"
      ],
      "metadata": {
        "colab": {
          "base_uri": "https://localhost:8080/"
        },
        "id": "3RIdkATWG_SE",
        "outputId": "f25a9f9e-dfd6-49bd-c0fb-7c95a212caca"
      },
      "execution_count": null,
      "outputs": [
        {
          "output_type": "stream",
          "name": "stdout",
          "text": [
            "df with missing values:\n",
            "       Name  Age   Salary\n",
            "0    Alice   25  50000.0\n",
            "1      Bob   30  60000.0\n",
            "2  Charlie   22      NaN\n"
          ]
        }
      ]
    },
    {
      "cell_type": "code",
      "source": [
        "# Example 2: Filling missing values\n",
        "#df['Salary'] = df['Salary'].fillna(df['Salary'].mean(), inplace=True)\n",
        "df['Salary']=df['Salary'].fillna(df['Salary'].mean())\n",
        "print(\"df with filled values:\\n\", df)\n",
        "\n",
        "print(\"Print only salary Column\")\n",
        "print(\"Salary Column with filled values:\\n\", df['Salary'])\n"
      ],
      "metadata": {
        "colab": {
          "base_uri": "https://localhost:8080/"
        },
        "id": "1_Sjgz5zNItZ",
        "outputId": "5a385bac-c242-46e7-895d-32aec9a9a444"
      },
      "execution_count": null,
      "outputs": [
        {
          "output_type": "stream",
          "name": "stdout",
          "text": [
            "df with filled values:\n",
            "       Name  Age   Salary\n",
            "0    Alice   25  50000.0\n",
            "1      Bob   30  60000.0\n",
            "2  Charlie   22  55000.0\n",
            "Print only salary Column\n",
            "Salary Column with filled values:\n",
            " 0    50000.0\n",
            "1    60000.0\n",
            "2    55000.0\n",
            "Name: Salary, dtype: float64\n"
          ]
        }
      ]
    },
    {
      "cell_type": "code",
      "source": [
        "# Example 2: Filling missing values\n",
        "df['Salary'].fillna(value=df['Salary'].mean())\n",
        "print(\"df with filled values:\\n\", df)\n",
        "\n"
      ],
      "metadata": {
        "colab": {
          "base_uri": "https://localhost:8080/"
        },
        "id": "GdBanPYaKbpR",
        "outputId": "b2c258f3-5c0f-4871-81b3-cc6d7c08dc7d"
      },
      "execution_count": 16,
      "outputs": [
        {
          "output_type": "stream",
          "name": "stdout",
          "text": [
            "df with filled values:\n",
            "       Name  Age   Salary\n",
            "0    Alice   25  50000.0\n",
            "1      Bob   30  60000.0\n",
            "2  Charlie   22  55000.0\n"
          ]
        }
      ]
    },
    {
      "cell_type": "code",
      "source": [
        "# Example 2: Filling missing values\n",
        "df['Salary'].fillna(df['Salary'].mean())\n",
        "print(\"df with filled values:\\n\", df)"
      ],
      "metadata": {
        "id": "f-z5hnKRMsAB",
        "colab": {
          "base_uri": "https://localhost:8080/"
        },
        "outputId": "8cae5b0c-7d29-4ee1-91fa-ec806be74370"
      },
      "execution_count": 17,
      "outputs": [
        {
          "output_type": "stream",
          "name": "stdout",
          "text": [
            "df with filled values:\n",
            "       Name  Age   Salary\n",
            "0    Alice   25  50000.0\n",
            "1      Bob   30  60000.0\n",
            "2  Charlie   22  55000.0\n"
          ]
        }
      ]
    }
  ]
}