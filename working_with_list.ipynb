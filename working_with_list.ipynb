{
  "nbformat": 4,
  "nbformat_minor": 0,
  "metadata": {
    "colab": {
      "provenance": [],
      "authorship_tag": "ABX9TyOsOBudEd799U0Tpoa0wXrk",
      "include_colab_link": true
    },
    "kernelspec": {
      "name": "python3",
      "display_name": "Python 3"
    },
    "language_info": {
      "name": "python"
    }
  },
  "cells": [
    {
      "cell_type": "markdown",
      "metadata": {
        "id": "view-in-github",
        "colab_type": "text"
      },
      "source": [
        "<a href=\"https://colab.research.google.com/github/nusratsadia/PCED/blob/main/working_with_list.ipynb\" target=\"_parent\"><img src=\"https://colab.research.google.com/assets/colab-badge.svg\" alt=\"Open In Colab\"/></a>"
      ]
    },
    {
      "cell_type": "code",
      "execution_count": 6,
      "metadata": {
        "id": "JO1tz5w4bgXT",
        "colab": {
          "base_uri": "https://localhost:8080/"
        },
        "outputId": "f6b3483a-669f-4aa0-85ec-55121d288e8e"
      },
      "outputs": [
        {
          "output_type": "stream",
          "name": "stdout",
          "text": [
            "First fruit: apple\n",
            "Last fruit: orange\n",
            "First two fruits: ['apple', 'banana']\n",
            "Fruits from index 1 to 2: ['banana', 'cherry']\n",
            "['apple', 'banana', 'cherry', 'orange', 'grape']\n",
            "['apple', 'mango', 'banana', 'cherry', 'orange', 'grape']\n",
            "['apple', 'mango', 'cherry', 'orange', 'grape']\n",
            "['apple', 'mango', 'orange', 'grape']\n",
            "Squares: [0, 1, 4, 9, 16]\n"
          ]
        }
      ],
      "source": [
        "''' Working with Lists'''\n",
        "\n",
        "# Create a list of fruits\n",
        "fruits = [\"apple\", \"banana\", \"cherry\", \"orange\"]\n",
        "\n",
        "# Access elements by index\n",
        "print(\"First fruit:\", fruits[0])\n",
        "print(\"Last fruit:\", fruits[-1])\n",
        "\n",
        "# Slice lists\n",
        "print(\"First two fruits:\", fruits[:2])  # ['apple', 'banana']\n",
        "print(\"Fruits from index 1 to 2:\", fruits[1:3])  # ['banana', 'cherry']\n",
        "\n",
        "# Modifying lists\n",
        " # Add an element\n",
        "fruits.append(\"grape\")\n",
        "print(fruits)\n",
        "\n",
        "# Insert an element at index 1\n",
        "fruits.insert(1, \"mango\")\n",
        "print(fruits)\n",
        "\n",
        "# Remove an element\n",
        "fruits.remove(\"banana\")\n",
        "print(fruits)\n",
        "\n",
        "# Remove an element\n",
        "fruits.pop(2)\n",
        "print(fruits)\n",
        "\n",
        "# List comprehension\n",
        "squares = [x**2 for x in range(5)]  # Create a list of squares\n",
        "print(\"Squares:\", squares)"
      ]
    },
    {
      "cell_type": "code",
      "source": [
        "my_list = ['larry', 'curly', 'moe']\n",
        "print(my_list)\n",
        "\n",
        "# append elem at end\n",
        "my_list.append('shemp')\n",
        "print(my_list)\n",
        "\n",
        "# insert element at index 0\n",
        "my_list.insert(0, 'xxx')\n",
        "print(my_list)\n",
        "\n",
        "# add a list of elements at end\n",
        "my_list.extend(['yyy', 'zzz'])\n",
        "print(my_list)\n",
        "\n",
        "print(my_list.index('curly'))   ##  give the index of the element 'curly' is 2\n",
        "\n",
        "# search and remove that element\n",
        "my_list.remove('curly')         ## search and remove that element\n",
        "print(my_list)\n",
        "\n",
        "my_list.pop(1)                  ## removes and returns 'larry'\n",
        "print(my_list)  ## ['xxx', 'moe', 'shemp', 'yyy', 'zzz']"
      ],
      "metadata": {
        "id": "b__vRpRgzr_e",
        "colab": {
          "base_uri": "https://localhost:8080/"
        },
        "outputId": "676c80cb-a216-41b4-d393-c5839a0f25d8"
      },
      "execution_count": 7,
      "outputs": [
        {
          "output_type": "stream",
          "name": "stdout",
          "text": [
            "['larry', 'curly', 'moe']\n",
            "['larry', 'curly', 'moe', 'shemp']\n",
            "['xxx', 'larry', 'curly', 'moe', 'shemp']\n",
            "['xxx', 'larry', 'curly', 'moe', 'shemp', 'yyy', 'zzz']\n",
            "2\n",
            "['xxx', 'larry', 'moe', 'shemp', 'yyy', 'zzz']\n",
            "['xxx', 'moe', 'shemp', 'yyy', 'zzz']\n"
          ]
        }
      ]
    }
  ]
}